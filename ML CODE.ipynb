{
  "nbformat": 4,
  "nbformat_minor": 0,
  "metadata": {
    "colab": {
      "name": "finals.ipynb",
      "provenance": [],
      "collapsed_sections": []
    },
    "kernelspec": {
      "name": "python3",
      "display_name": "Python 3"
    },
    "language_info": {
      "name": "python"
    }
  },
  "cells": [
    {
      "cell_type": "code",
      "execution_count": null,
      "metadata": {
        "id": "R4Pld78TL28a"
      },
      "outputs": [],
      "source": [
        "import pandas as pd\n",
        "import numpy as np\n",
        "from sklearn.metrics import classification_report, accuracy_score, confusion_matrix, f1_score,roc_curve,roc_auc_score\n",
        "from sklearn.preprocessing import StandardScaler,LabelEncoder\n",
        "from sklearn import metrics\n",
        "from sklearn.model_selection import train_test_split,cross_val_score\n",
        "import warnings\n",
        "import itertools\n",
        "import matplotlib as plt\n",
        "warnings.filterwarnings(\"ignore\")"
      ]
    },
    {
      "cell_type": "code",
      "source": [
        "data3 = pd.read_csv(\"QCM3.csv\")\n",
        "data6 = pd.read_csv(\"QCM6.csv\")\n",
        "data7 = pd.read_csv(\"QCM7.csv\")\n",
        "data10 = pd.read_csv(\"QCM10.csv\")\n",
        "data12 = pd.read_csv(\"QCM12.csv\")\n",
        "dataset = pd.read_csv(\"Dataset.csv\")"
      ],
      "metadata": {
        "id": "eVU9PAe6L_K6"
      },
      "execution_count": null,
      "outputs": []
    },
    {
      "cell_type": "code",
      "source": [
        "#MLP FOR SENSOR 3\n",
        "from sklearn.neural_network import MLPClassifier\n",
        "\n",
        "#SPLITTING INTO X AND Y\n",
        "x = data3.iloc[:,:10].values\n",
        "y = data3['Class'].values\n",
        "\n",
        "#TRAIN TEST SPLIT\n",
        "X_train, X_test, y_train, y_test = train_test_split(x, y, test_size=0.20, random_state=1)\n",
        "\n",
        "#MODEL CREATION\n",
        "model=MLPClassifier(solver='lbfgs', \n",
        "                    alpha=1e-5,\n",
        "                    hidden_layer_sizes=(150,100,50), \n",
        "                    random_state=1)\n",
        "model.fit(X_train,y_train)\n",
        "y_pred=model.predict(X_test)\n",
        "\n",
        "#CALCULATING METRICES\n",
        "print(\"Accuracy score: \" + str(accuracy_score(y_test, y_pred)))\n",
        "cm=confusion_matrix(y_test, y_pred)\n",
        "print(\"\\nConfusion matrix: \\n\" + str(confusion_matrix(y_test, y_pred)))\n",
        "print(\"F1 score: \" + str(f1_score(y_test, y_pred,average='micro')))\n",
        "TP = cm[1][1]\n",
        "TN = cm[0][0]\n",
        "FP = cm[0][1]\n",
        "FN = cm[1][0]\n",
        "accMLP3=str(accuracy_score(y_test, y_pred))\n",
        "conf_sensitivityMLP3 = (TP / float(TP + FN))\n",
        "conf_specificityMLP3 = (TN / float(TN + FP))\n",
        "print(f'Sensitivity: {round(conf_sensitivityMLP3,2)}') \n",
        "print(f'Specificity: {round(conf_specificityMLP3,2)}') \n"
      ],
      "metadata": {
        "colab": {
          "base_uri": "https://localhost:8080/"
        },
        "id": "kU-KhPa-PX8Y",
        "outputId": "f61c2ed3-ea62-4322-87bf-c9889c14791b"
      },
      "execution_count": null,
      "outputs": [
        {
          "output_type": "stream",
          "name": "stdout",
          "text": [
            "Accuracy score: 1.0\n",
            "\n",
            "Confusion matrix: \n",
            "[[1 0 0 0]\n",
            " [0 2 0 0]\n",
            " [0 0 1 0]\n",
            " [0 0 0 1]]\n",
            "F1 score: 1.0\n",
            "Sensitivity: 1.0\n",
            "Specificity: 1.0\n"
          ]
        }
      ]
    },
    {
      "cell_type": "code",
      "source": [
        "#MLP FOR SENSOR 6\n",
        "#SPLITTING INTO X AND Y\n",
        "x = data6.iloc[:,:10].values\n",
        "y = data6['Class'].values\n",
        "\n",
        "#TRAIN TEST SPLIT\n",
        "X_train, X_test, y_train, y_test = train_test_split(x, y, test_size=0.20, random_state=1)\n",
        "\n",
        "#MODEL CREATION\n",
        "model=MLPClassifier(solver='lbfgs', \n",
        "                    alpha=1e-5,\n",
        "                    hidden_layer_sizes=(150,100,50), \n",
        "                    random_state=1)\n",
        "model.fit(X_train,y_train)\n",
        "y_pred=model.predict(X_test)\n",
        "\n",
        "#CALCULATING METRICES\n",
        "print(\"Accuracy score: \" + str(accuracy_score(y_test, y_pred)))\n",
        "cm=confusion_matrix(y_test, y_pred)\n",
        "print(\"\\nConfusion matrix: \\n\" + str(confusion_matrix(y_test, y_pred)))\n",
        "print(\"F1 score: \" + str(f1_score(y_test, y_pred,average='micro')))\n",
        "TP = cm[1][1]\n",
        "TN = cm[0][0]\n",
        "FP = cm[0][1]\n",
        "FN = cm[1][0]\n",
        "accMLP3=str(accuracy_score(y_test, y_pred))\n",
        "conf_sensitivityMLP6 = (TP / float(TP + FN))\n",
        "conf_specificityMLP6 = (TN / float(TN + FP))\n",
        "print(f'Sensitivity: {round(conf_sensitivityMLP6,2)}') \n",
        "print(f'Specificity: {round(conf_specificityMLP6,2)}') \n"
      ],
      "metadata": {
        "colab": {
          "base_uri": "https://localhost:8080/"
        },
        "id": "KGEtXlvHTFyL",
        "outputId": "f9cebbc1-1243-4b20-bc99-c28517c2e71c"
      },
      "execution_count": null,
      "outputs": [
        {
          "output_type": "stream",
          "name": "stdout",
          "text": [
            "Accuracy score: 1.0\n",
            "\n",
            "Confusion matrix: \n",
            "[[1 0 0 0]\n",
            " [0 2 0 0]\n",
            " [0 0 1 0]\n",
            " [0 0 0 1]]\n",
            "F1 score: 1.0\n",
            "Sensitivity: 1.0\n",
            "Specificity: 1.0\n"
          ]
        }
      ]
    },
    {
      "cell_type": "code",
      "source": [
        "#MLP FOR SENSOR 7\n",
        "#SPLITTING INTO X AND Y\n",
        "x = data7.iloc[:,:10].values\n",
        "y = data7['Class'].values\n",
        "\n",
        "#TRAIN TEST SPLIT\n",
        "X_train, X_test, y_train, y_test = train_test_split(x, y, test_size=0.20, random_state=1)\n",
        "\n",
        "#MODEL CREATION\n",
        "model=MLPClassifier(solver='lbfgs', \n",
        "                    alpha=1e-5,\n",
        "                    hidden_layer_sizes=(150,100,50), \n",
        "                    random_state=1)\n",
        "model.fit(X_train,y_train)\n",
        "y_pred=model.predict(X_test)\n",
        "\n",
        "#CALCULATING METRICES\n",
        "print(\"Accuracy score: \" + str(accuracy_score(y_test, y_pred)))\n",
        "cm=confusion_matrix(y_test, y_pred)\n",
        "print(\"\\nConfusion matrix: \\n\" + str(confusion_matrix(y_test, y_pred)))\n",
        "print(\"F1 score: \" + str(f1_score(y_test, y_pred,average='micro')))\n",
        "TP = cm[1][1]\n",
        "TN = cm[0][0]\n",
        "FP = cm[0][1]\n",
        "FN = cm[1][0]\n",
        "accMLP3=str(accuracy_score(y_test, y_pred))\n",
        "conf_sensitivityMLP7 = (TP / float(TP + FN))\n",
        "conf_specificityMLP7 = (TN / float(TN + FP))\n",
        "print(f'Sensitivity: {round(conf_sensitivityMLP7,2)}') \n",
        "print(f'Specificity: {round(conf_specificityMLP7,2)}') \n"
      ],
      "metadata": {
        "colab": {
          "base_uri": "https://localhost:8080/"
        },
        "id": "krKQyfDoU-3r",
        "outputId": "09af6474-7369-423c-8a7b-238c5b45d56d"
      },
      "execution_count": null,
      "outputs": [
        {
          "output_type": "stream",
          "name": "stdout",
          "text": [
            "Accuracy score: 1.0\n",
            "\n",
            "Confusion matrix: \n",
            "[[1 0 0 0]\n",
            " [0 2 0 0]\n",
            " [0 0 1 0]\n",
            " [0 0 0 1]]\n",
            "F1 score: 1.0\n",
            "Sensitivity: 1.0\n",
            "Specificity: 1.0\n"
          ]
        }
      ]
    },
    {
      "cell_type": "code",
      "source": [
        "#MLP FOR SENSOR 10\n",
        "#SPLITTING INTO X AND Y\n",
        "x = data10.iloc[:,:10].values\n",
        "y = data10['Class'].values\n",
        "\n",
        "#TRAIN TEST SPLIT\n",
        "X_train, X_test, y_train, y_test = train_test_split(x, y, test_size=0.20, random_state=1)\n",
        "\n",
        "#MODEL CREATION\n",
        "model=MLPClassifier(solver='lbfgs', \n",
        "                    alpha=1e-5,\n",
        "                    hidden_layer_sizes=(150,100,50), \n",
        "                    random_state=1)\n",
        "model.fit(X_train,y_train)\n",
        "y_pred=model.predict(X_test)\n",
        "\n",
        "#CALCULATING METRICES\n",
        "print(\"Accuracy score: \" + str(accuracy_score(y_test, y_pred)))\n",
        "cm=confusion_matrix(y_test, y_pred)\n",
        "print(\"\\nConfusion matrix: \\n\" + str(confusion_matrix(y_test, y_pred)))\n",
        "print(\"F1 score: \" + str(f1_score(y_test, y_pred,average='micro')))\n",
        "TP = cm[1][1]\n",
        "TN = cm[0][0]\n",
        "FP = cm[0][1]\n",
        "FN = cm[1][0]\n",
        "accMLP10=str(accuracy_score(y_test, y_pred))\n",
        "conf_sensitivityMLP10 = (TP / float(TP + FN))\n",
        "conf_specificityMLP10 = (TN / float(TN + FP))\n",
        "print(f'Sensitivity: {round(conf_sensitivityMLP10,2)}') \n",
        "print(f'Specificity: {round(conf_specificityMLP10,2)}') "
      ],
      "metadata": {
        "colab": {
          "base_uri": "https://localhost:8080/"
        },
        "id": "JB7frz_nVTJp",
        "outputId": "dacae985-2500-4136-bf36-00b30d78579a"
      },
      "execution_count": null,
      "outputs": [
        {
          "output_type": "stream",
          "name": "stdout",
          "text": [
            "Accuracy score: 0.8\n",
            "\n",
            "Confusion matrix: \n",
            "[[1 0 0 0]\n",
            " [0 1 1 0]\n",
            " [0 0 1 0]\n",
            " [0 0 0 1]]\n",
            "F1 score: 0.8000000000000002\n",
            "Sensitivity: 1.0\n",
            "Specificity: 1.0\n"
          ]
        }
      ]
    },
    {
      "cell_type": "code",
      "source": [
        "#MLP FOR SENSOR 12\n",
        "#SPLITTING INTO X AND Y\n",
        "x = data12.iloc[:,:10].values\n",
        "y = data12['Class'].values\n",
        "\n",
        "#TRAIN TEST SPLIT\n",
        "X_train, X_test, y_train, y_test = train_test_split(x, y, test_size=0.20, random_state=1)\n",
        "\n",
        "#MODEL CREATION\n",
        "model=MLPClassifier(solver='lbfgs', \n",
        "                    alpha=1e-5,\n",
        "                    hidden_layer_sizes=(150,100,50), \n",
        "                    random_state=1)\n",
        "model.fit(X_train,y_train)\n",
        "y_pred=model.predict(X_test)\n",
        "\n",
        "#CALCULATING METRICES\n",
        "print(\"Accuracy score: \" + str(accuracy_score(y_test, y_pred)))\n",
        "cm=confusion_matrix(y_test, y_pred)\n",
        "print(\"\\nConfusion matrix: \\n\" + str(confusion_matrix(y_test, y_pred)))\n",
        "print(\"F1 score: \" + str(f1_score(y_test, y_pred,average='micro')))\n",
        "TP = cm[1][1]\n",
        "TN = cm[0][0]\n",
        "FP = cm[0][1]\n",
        "FN = cm[1][0]\n",
        "accMLP10=str(accuracy_score(y_test, y_pred))\n",
        "conf_sensitivityMLP12 = (TP / float(TP + FN))\n",
        "conf_specificityMLP12 = (TN / float(TN + FP))\n",
        "print(f'Sensitivity: {round(conf_sensitivityMLP12,2)}') \n",
        "print(f'Specificity: {round(conf_specificityMLP12,2)}') "
      ],
      "metadata": {
        "colab": {
          "base_uri": "https://localhost:8080/"
        },
        "id": "lp-HW0G_Vlgs",
        "outputId": "08ad77c3-8a2f-4e61-9509-48c7a68698a9"
      },
      "execution_count": null,
      "outputs": [
        {
          "output_type": "stream",
          "name": "stdout",
          "text": [
            "Accuracy score: 0.8\n",
            "\n",
            "Confusion matrix: \n",
            "[[1 0 0 0]\n",
            " [1 1 0 0]\n",
            " [0 0 1 0]\n",
            " [0 0 0 1]]\n",
            "F1 score: 0.8000000000000002\n",
            "Sensitivity: 0.5\n",
            "Specificity: 1.0\n"
          ]
        }
      ]
    },
    {
      "cell_type": "code",
      "source": [
        "#SVM FOR SENSOR 3\n",
        "from sklearn.svm import SVC\n",
        "\n",
        "#SPLITTING INTO X AND Y\n",
        "x = data3.iloc[:,:10].values\n",
        "y = data3['Class'].values\n",
        "\n",
        "#TRAIN TEST SPLIT\n",
        "X_train, X_test, y_train, y_test = train_test_split(x, y, test_size=0.20, random_state=1)\n",
        "\n",
        "#MODEL CREATION\n",
        "SVCClf = SVC(kernel = 'linear',gamma = 'scale', shrinking = False,)\n",
        "SVCClf.fit(X_train, y_train)\n",
        "y_pred=SVCClf.predict(X_test)\n",
        "\n",
        "\n",
        "#CALCULATING METRICES\n",
        "print(\"Accuracy score: \" + str(accuracy_score(y_test, y_pred)))\n",
        "cm=confusion_matrix(y_test, y_pred)\n",
        "print(\"\\nConfusion matrix: \\n\" + str(confusion_matrix(y_test, y_pred)))\n",
        "print(\"F1 score: \" + str(f1_score(y_test, y_pred,average='micro')))\n",
        "TP = cm[1][1]\n",
        "TN = cm[0][0]\n",
        "FP = cm[0][1]\n",
        "FN = cm[1][0]\n",
        "accSVM3=str(accuracy_score(y_test, y_pred))\n",
        "conf_sensitivitySVM3 = (TP / float(TP + FN))\n",
        "conf_specificitySVM3 = (TN / float(TN + FP))\n",
        "print(f'Sensitivity: {round(conf_sensitivitySVM3,2)}') \n",
        "print(f'Specificity: {round(conf_specificitySVM3,2)}') "
      ],
      "metadata": {
        "colab": {
          "base_uri": "https://localhost:8080/"
        },
        "id": "OPZLoKuNV_Yr",
        "outputId": "5e416975-8773-402f-bb3a-1c25b67c639e"
      },
      "execution_count": null,
      "outputs": [
        {
          "output_type": "stream",
          "name": "stdout",
          "text": [
            "Accuracy score: 1.0\n",
            "\n",
            "Confusion matrix: \n",
            "[[1 0 0 0]\n",
            " [0 2 0 0]\n",
            " [0 0 1 0]\n",
            " [0 0 0 1]]\n",
            "F1 score: 1.0\n",
            "Sensitivity: 1.0\n",
            "Specificity: 1.0\n"
          ]
        }
      ]
    },
    {
      "cell_type": "code",
      "source": [
        "#SVM FOR SENSOR 6\n",
        "\n",
        "#SPLITTING INTO X AND Y\n",
        "x = data6.iloc[:,:10].values\n",
        "y = data6['Class'].values\n",
        "\n",
        "#TRAIN TEST SPLIT\n",
        "X_train, X_test, y_train, y_test = train_test_split(x, y, test_size=0.20, random_state=1)\n",
        "\n",
        "#MODEL CREATION\n",
        "SVCClf = SVC(kernel = 'linear',gamma = 'scale', shrinking = False,)\n",
        "SVCClf.fit(X_train, y_train)\n",
        "y_pred=SVCClf.predict(X_test)\n",
        "\n",
        "\n",
        "#CALCULATING METRICES\n",
        "print(\"Accuracy score: \" + str(accuracy_score(y_test, y_pred)))\n",
        "cm=confusion_matrix(y_test, y_pred)\n",
        "print(\"\\nConfusion matrix: \\n\" + str(confusion_matrix(y_test, y_pred)))\n",
        "print(\"F1 score: \" + str(f1_score(y_test, y_pred,average='micro')))\n",
        "TP = cm[1][1]\n",
        "TN = cm[0][0]\n",
        "FP = cm[0][1]\n",
        "FN = cm[1][0]\n",
        "accSVM6=str(accuracy_score(y_test, y_pred))\n",
        "conf_sensitivitySVM6 = (TP / float(TP + FN))\n",
        "conf_specificitySVM6 = (TN / float(TN + FP))\n",
        "print(f'Sensitivity: {round(conf_sensitivitySVM6,2)}') \n",
        "print(f'Specificity: {round(conf_specificitySVM6,2)}') "
      ],
      "metadata": {
        "colab": {
          "base_uri": "https://localhost:8080/"
        },
        "id": "xidQgbbhXY5m",
        "outputId": "5f8721a4-83d5-4fae-fdab-3064b6008acb"
      },
      "execution_count": null,
      "outputs": [
        {
          "output_type": "stream",
          "name": "stdout",
          "text": [
            "Accuracy score: 1.0\n",
            "\n",
            "Confusion matrix: \n",
            "[[1 0 0 0]\n",
            " [0 2 0 0]\n",
            " [0 0 1 0]\n",
            " [0 0 0 1]]\n",
            "F1 score: 1.0\n",
            "Sensitivity: 1.0\n",
            "Specificity: 1.0\n"
          ]
        }
      ]
    },
    {
      "cell_type": "code",
      "source": [
        "#SVM FOR SENSOR 7\n",
        "\n",
        "#SPLITTING INTO X AND Y\n",
        "x = data7.iloc[:,:10].values\n",
        "y = data7['Class'].values\n",
        "\n",
        "#TRAIN TEST SPLIT\n",
        "X_train, X_test, y_train, y_test = train_test_split(x, y, test_size=0.20, random_state=1)\n",
        "\n",
        "#MODEL CREATION\n",
        "SVCClf = SVC(kernel = 'linear',gamma = 'scale', shrinking = False,)\n",
        "SVCClf.fit(X_train, y_train)\n",
        "y_pred=SVCClf.predict(X_test)\n",
        "\n",
        "\n",
        "#CALCULATING METRICES\n",
        "print(\"Accuracy score: \" + str(accuracy_score(y_test, y_pred)))\n",
        "cm=confusion_matrix(y_test, y_pred)\n",
        "print(\"\\nConfusion matrix: \\n\" + str(confusion_matrix(y_test, y_pred)))\n",
        "print(\"F1 score: \" + str(f1_score(y_test, y_pred,average='micro')))\n",
        "TP = cm[1][1]\n",
        "TN = cm[0][0]\n",
        "FP = cm[0][1]\n",
        "FN = cm[1][0]\n",
        "accSVM7=str(accuracy_score(y_test, y_pred))\n",
        "conf_sensitivitySVM7 = (TP / float(TP + FN))\n",
        "conf_specificitySVM7 = (TN / float(TN + FP))\n",
        "print(f'Sensitivity: {round(conf_sensitivitySVM7,2)}') \n",
        "print(f'Specificity: {round(conf_specificitySVM7,2)}') "
      ],
      "metadata": {
        "colab": {
          "base_uri": "https://localhost:8080/"
        },
        "id": "QumkHIyeX_vf",
        "outputId": "e2a900b3-e439-449b-c50b-044a1f4d0872"
      },
      "execution_count": null,
      "outputs": [
        {
          "output_type": "stream",
          "name": "stdout",
          "text": [
            "Accuracy score: 1.0\n",
            "\n",
            "Confusion matrix: \n",
            "[[1 0 0 0]\n",
            " [0 2 0 0]\n",
            " [0 0 1 0]\n",
            " [0 0 0 1]]\n",
            "F1 score: 1.0\n",
            "Sensitivity: 1.0\n",
            "Specificity: 1.0\n"
          ]
        }
      ]
    },
    {
      "cell_type": "code",
      "source": [
        "#SVM FOR SENSOR 10\n",
        "\n",
        "#SPLITTING INTO X AND Y\n",
        "x = data10.iloc[:,:10].values\n",
        "y = data10['Class'].values\n",
        "\n",
        "#TRAIN TEST SPLIT\n",
        "X_train, X_test, y_train, y_test = train_test_split(x, y, test_size=0.20, random_state=1)\n",
        "\n",
        "#MODEL CREATION\n",
        "SVCClf = SVC(kernel = 'linear',gamma = 'scale', shrinking = False,)\n",
        "SVCClf.fit(X_train, y_train)\n",
        "y_pred=SVCClf.predict(X_test)\n",
        "\n",
        "\n",
        "#CALCULATING METRICES\n",
        "print(\"Accuracy score: \" + str(accuracy_score(y_test, y_pred)))\n",
        "cm=confusion_matrix(y_test, y_pred)\n",
        "print(\"\\nConfusion matrix: \\n\" + str(confusion_matrix(y_test, y_pred)))\n",
        "print(\"F1 score: \" + str(f1_score(y_test, y_pred,average='micro')))\n",
        "TP = cm[1][1]\n",
        "TN = cm[0][0]\n",
        "FP = cm[0][1]\n",
        "FN = cm[1][0]\n",
        "accSVM10=str(accuracy_score(y_test, y_pred))\n",
        "conf_sensitivitySVM10 = (TP / float(TP + FN))\n",
        "conf_specificitySVM10 = (TN / float(TN + FP))\n",
        "print(f'Sensitivity: {round(conf_sensitivitySVM7,2)}') \n",
        "print(f'Specificity: {round(conf_specificitySVM7,2)}') "
      ],
      "metadata": {
        "colab": {
          "base_uri": "https://localhost:8080/"
        },
        "id": "rFqmFzfsYSt0",
        "outputId": "e11a0c19-724e-4ec2-e77d-d9a54aaf668c"
      },
      "execution_count": null,
      "outputs": [
        {
          "output_type": "stream",
          "name": "stdout",
          "text": [
            "Accuracy score: 1.0\n",
            "\n",
            "Confusion matrix: \n",
            "[[1 0 0 0]\n",
            " [0 2 0 0]\n",
            " [0 0 1 0]\n",
            " [0 0 0 1]]\n",
            "F1 score: 1.0\n",
            "Sensitivity: 1.0\n",
            "Specificity: 1.0\n"
          ]
        }
      ]
    },
    {
      "cell_type": "code",
      "source": [
        "#SVM FOR SENSOR 12\n",
        "\n",
        "#SPLITTING INTO X AND Y\n",
        "x = data12.iloc[:,:10].values\n",
        "y = data12['Class'].values\n",
        "\n",
        "#TRAIN TEST SPLIT\n",
        "X_train, X_test, y_train, y_test = train_test_split(x, y, test_size=0.20, random_state=1)\n",
        "\n",
        "#MODEL CREATION\n",
        "SVCClf = SVC(kernel = 'linear',gamma = 'scale', shrinking = False,)\n",
        "SVCClf.fit(X_train, y_train)\n",
        "y_pred=SVCClf.predict(X_test)\n",
        "\n",
        "\n",
        "#CALCULATING METRICES\n",
        "print(\"Accuracy score: \" + str(accuracy_score(y_test, y_pred)))\n",
        "cm=confusion_matrix(y_test, y_pred)\n",
        "print(\"\\nConfusion matrix: \\n\" + str(confusion_matrix(y_test, y_pred)))\n",
        "print(\"F1 score: \" + str(f1_score(y_test, y_pred,average='micro')))\n",
        "TP = cm[1][1]\n",
        "TN = cm[0][0]\n",
        "FP = cm[0][1]\n",
        "FN = cm[1][0]\n",
        "accSVM12=str(accuracy_score(y_test, y_pred))\n",
        "conf_sensitivitySVM12 = (TP / float(TP + FN))\n",
        "conf_specificitySVM12 = (TN / float(TN + FP))\n",
        "print(f'Sensitivity: {round(conf_sensitivitySVM12,2)}') \n",
        "print(f'Specificity: {round(conf_specificitySVM12,2)}') "
      ],
      "metadata": {
        "colab": {
          "base_uri": "https://localhost:8080/"
        },
        "id": "xtCnOhd4Y24E",
        "outputId": "702f0d13-14fc-404d-cfa0-9ef6bcaac1b8"
      },
      "execution_count": null,
      "outputs": [
        {
          "output_type": "stream",
          "name": "stdout",
          "text": [
            "Accuracy score: 1.0\n",
            "\n",
            "Confusion matrix: \n",
            "[[1 0 0 0]\n",
            " [0 2 0 0]\n",
            " [0 0 1 0]\n",
            " [0 0 0 1]]\n",
            "F1 score: 1.0\n",
            "Sensitivity: 1.0\n",
            "Specificity: 1.0\n"
          ]
        }
      ]
    },
    {
      "cell_type": "code",
      "source": [
        "pip install hmmlearn"
      ],
      "metadata": {
        "colab": {
          "base_uri": "https://localhost:8080/"
        },
        "id": "YvaGB2PHZdlE",
        "outputId": "758a93a2-c7a8-423f-d5d3-3ee91710d3dc"
      },
      "execution_count": null,
      "outputs": [
        {
          "output_type": "stream",
          "name": "stdout",
          "text": [
            "Requirement already satisfied: hmmlearn in /usr/local/lib/python3.7/dist-packages (0.2.7)\n",
            "Requirement already satisfied: scikit-learn>=0.16 in /usr/local/lib/python3.7/dist-packages (from hmmlearn) (1.0.2)\n",
            "Requirement already satisfied: numpy>=1.10 in /usr/local/lib/python3.7/dist-packages (from hmmlearn) (1.21.6)\n",
            "Requirement already satisfied: scipy>=0.19 in /usr/local/lib/python3.7/dist-packages (from hmmlearn) (1.4.1)\n",
            "Requirement already satisfied: threadpoolctl>=2.0.0 in /usr/local/lib/python3.7/dist-packages (from scikit-learn>=0.16->hmmlearn) (3.1.0)\n",
            "Requirement already satisfied: joblib>=0.11 in /usr/local/lib/python3.7/dist-packages (from scikit-learn>=0.16->hmmlearn) (1.1.0)\n"
          ]
        }
      ]
    },
    {
      "cell_type": "code",
      "source": [
        "#K MEANS FOR SENOR 3\n",
        "from sklearn.cluster import KMeans\n",
        "from sklearn.preprocessing import MinMaxScaler\n",
        "\n",
        "#SPLITTING INTO X AND Y\n",
        "x=data3.drop('Class',axis=1)\n",
        "y = data3['Class']\n",
        "sc=MinMaxScaler()\n",
        "xsc=sc.fit_transform(x)\n",
        "xsc=pd.DataFrame(xsc)\n",
        "\n",
        "#MODELCREATION \n",
        "km = KMeans(n_clusters=5)\n",
        "y_pred=km.fit_predict(xsc)\n",
        "\n",
        "\n",
        "#CALCULATING METRICES\n",
        "print(\"Accuracy score: \" + str(accuracy_score(y, y_pred)))\n",
        "cm=confusion_matrix(y, y_pred)\n",
        "print(\"\\nConfusion matrix: \\n\" + str(confusion_matrix(y, y_pred)))\n",
        "print(\"F1 score: \" + str(f1_score(y, y_pred,average='micro')))\n",
        "TP = cm[1][1]\n",
        "TN = cm[0][0]\n",
        "FP = cm[0][1]\n",
        "FN = cm[1][0]\n",
        "accKMM3=str(accuracy_score(y, y_pred))\n",
        "conf_sensitivityKMM3 = (TP / float(TP + FN))\n",
        "conf_specificityKMM3 = (TN / float(TN + FP))\n",
        "print(f'Sensitivity: {round(conf_sensitivityKMM3,2)}') \n",
        "print(f'Specificity: {round(conf_specificityKMM3,2)}') "
      ],
      "metadata": {
        "colab": {
          "base_uri": "https://localhost:8080/"
        },
        "id": "y5ZU1dFU2l_c",
        "outputId": "e240e52e-8786-4cdc-dbdb-874f6e2f9c33"
      },
      "execution_count": null,
      "outputs": [
        {
          "output_type": "stream",
          "name": "stdout",
          "text": [
            "Accuracy score: 0.6\n",
            "\n",
            "Confusion matrix: \n",
            "[[5 0 0 0 0]\n",
            " [0 5 0 0 0]\n",
            " [0 0 0 5 0]\n",
            " [0 0 5 0 0]\n",
            " [0 0 0 0 5]]\n",
            "F1 score: 0.6\n",
            "Sensitivity: 1.0\n",
            "Specificity: 1.0\n"
          ]
        }
      ]
    },
    {
      "cell_type": "code",
      "source": [
        "#K MEANS FOR SENSOR 6\n",
        "#SPLITTING INTO X AND Y\n",
        "x=data6.drop('Class',axis=1)\n",
        "y = data6['Class']\n",
        "sc=MinMaxScaler()\n",
        "xsc=sc.fit_transform(x)\n",
        "xsc=pd.DataFrame(xsc)\n",
        "\n",
        "#MODELCREATION \n",
        "km = KMeans(n_clusters=5,random_state=8)\n",
        "y_pred=km.fit_predict(xsc)\n",
        "\n",
        "\n",
        "#CALCULATING METRICES\n",
        "print(\"Accuracy score: \" + str(accuracy_score(y, y_pred)))\n",
        "cm=confusion_matrix(y, y_pred)\n",
        "print(\"\\nConfusion matrix: \\n\" + str(confusion_matrix(y, y_pred)))\n",
        "print(\"F1 score: \" + str(f1_score(y, y_pred,average='micro')))\n",
        "TP = cm[1][1]\n",
        "TN = cm[0][0]\n",
        "FP = cm[0][1]\n",
        "FN = cm[1][0]\n",
        "accKMM6=str(accuracy_score(y, y_pred))\n",
        "conf_sensitivityKMM6 = (TP / float(TP + FN))\n",
        "conf_specificityKMM6 = (TN / float(TN + FP))\n",
        "print(f'Sensitivity: {round(conf_sensitivityKMM6,2)}') \n",
        "print(f'Specificity: {round(conf_specificityKMM6,2)}') "
      ],
      "metadata": {
        "colab": {
          "base_uri": "https://localhost:8080/"
        },
        "id": "A_m7i4V947yZ",
        "outputId": "35d84f8a-6b2c-4989-da26-d76ec2d0e3f9"
      },
      "execution_count": null,
      "outputs": [
        {
          "output_type": "stream",
          "name": "stdout",
          "text": [
            "Accuracy score: 0.6\n",
            "\n",
            "Confusion matrix: \n",
            "[[5 0 0 0 0]\n",
            " [0 5 0 0 0]\n",
            " [0 0 0 5 0]\n",
            " [0 0 5 0 0]\n",
            " [0 0 0 0 5]]\n",
            "F1 score: 0.6\n",
            "Sensitivity: 1.0\n",
            "Specificity: 1.0\n"
          ]
        }
      ]
    },
    {
      "cell_type": "code",
      "source": [
        "#K MEANS FOR SENOR 10\n",
        "#SPLITTING INTO X AND Y\n",
        "x=data10.drop('Class',axis=1)\n",
        "y = data10['Class']\n",
        "sc=MinMaxScaler()\n",
        "xsc=sc.fit_transform(x)\n",
        "\n",
        "\n",
        "#MODELCREATION \n",
        "km = KMeans(n_clusters=3,random_state=8)\n",
        "y_pred=km.fit_predict(xsc)\n",
        "\n",
        "\n",
        "#CALCULATING METRICES\n",
        "print(\"Accuracy score: \" + str(accuracy_score(y, y_pred)))\n",
        "cm=confusion_matrix(y, y_pred)\n",
        "print(\"\\nConfusion matrix: \\n\" + str(confusion_matrix(y, y_pred)))\n",
        "print(\"F1 score: \" + str(f1_score(y, y_pred,average='micro')))\n",
        "TP = cm[1][1]\n",
        "TN = cm[0][0]\n",
        "FP = cm[0][1]\n",
        "FN = cm[1][0]\n",
        "accKMM10=str(accuracy_score(y, y_pred))\n",
        "conf_sensitivityKMM10 = (TP / float(TP + FN))\n",
        "conf_specificityKMM10 = (TN / float(TN + FP))\n",
        "print(f'Sensitivity: {round(conf_sensitivityKMM10,2)}') \n",
        "print(f'Specificity: {round(conf_specificityKMM10,2)}') "
      ],
      "metadata": {
        "colab": {
          "base_uri": "https://localhost:8080/"
        },
        "id": "b60xilje9UK8",
        "outputId": "b0c08be3-706f-48a2-d220-551dde608872"
      },
      "execution_count": null,
      "outputs": [
        {
          "output_type": "stream",
          "name": "stdout",
          "text": [
            "Accuracy score: 0.6\n",
            "\n",
            "Confusion matrix: \n",
            "[[5 0 0 0 0]\n",
            " [0 5 0 0 0]\n",
            " [0 0 5 0 0]\n",
            " [0 5 0 0 0]\n",
            " [0 0 5 0 0]]\n",
            "F1 score: 0.6\n",
            "Sensitivity: 1.0\n",
            "Specificity: 1.0\n"
          ]
        }
      ]
    },
    {
      "cell_type": "code",
      "source": [
        "#K MEANS FOR SENOR 7\n",
        "#SPLITTING INTO X AND Y\n",
        "x=data7.drop('Class',axis=1)\n",
        "y = data7['Class']\n",
        "sc=MinMaxScaler()\n",
        "xsc=sc.fit_transform(x)\n",
        "\n",
        "\n",
        "#MODELCREATION \n",
        "km = KMeans(n_clusters=2,random_state=17)\n",
        "y_pred=km.fit_predict(xsc)\n",
        "\n",
        "\n",
        "#CALCULATING METRICES\n",
        "print(\"Accuracy score: \" + str(accuracy_score(y, y_pred)))\n",
        "cm=confusion_matrix(y, y_pred)\n",
        "print(\"\\nConfusion matrix: \\n\" + str(confusion_matrix(y, y_pred)))\n",
        "print(\"F1 score: \" + str(f1_score(y, y_pred,average='micro')))\n",
        "TP = cm[1][1]\n",
        "TN = cm[0][0]\n",
        "FP = cm[0][1]\n",
        "FN = cm[1][0]\n",
        "accKMM7=str(accuracy_score(y, y_pred))\n",
        "conf_sensitivityKMM7 = (TP / float(TP + FN))\n",
        "conf_specificityKMM7 = (TN / float(TN + FP))\n",
        "print(f'Sensitivity: {round(conf_sensitivityKMM7,2)}') \n",
        "print(f'Specificity: {round(conf_specificityKMM7,2)}') "
      ],
      "metadata": {
        "colab": {
          "base_uri": "https://localhost:8080/"
        },
        "id": "XSSjNiex-tYc",
        "outputId": "f69b554a-a5d3-45c9-88f0-d54f66b174e1"
      },
      "execution_count": null,
      "outputs": [
        {
          "output_type": "stream",
          "name": "stdout",
          "text": [
            "Accuracy score: 0.4\n",
            "\n",
            "Confusion matrix: \n",
            "[[5 0 0 0 0]\n",
            " [0 5 0 0 0]\n",
            " [0 5 0 0 0]\n",
            " [5 0 0 0 0]\n",
            " [0 5 0 0 0]]\n",
            "F1 score: 0.4000000000000001\n",
            "Sensitivity: 1.0\n",
            "Specificity: 1.0\n"
          ]
        }
      ]
    },
    {
      "cell_type": "code",
      "source": [
        "#K MEANS FOR SENOR 12\n",
        "#SPLITTING INTO X AND Y\n",
        "x=data12.drop('Class',axis=1)\n",
        "y = data12['Class']\n",
        "sc=MinMaxScaler()\n",
        "xsc=sc.fit_transform(x)\n",
        "\n",
        "\n",
        "#MODELCREATION \n",
        "km = KMeans(n_clusters=4,random_state=8)\n",
        "y_pred=km.fit_predict(xsc)\n",
        "\n",
        "\n",
        "#CALCULATING METRICES\n",
        "print(\"Accuracy score: \" + str(accuracy_score(y, y_pred)))\n",
        "cm=confusion_matrix(y, y_pred)\n",
        "print(\"\\nConfusion matrix: \\n\" + str(confusion_matrix(y, y_pred)))\n",
        "print(\"F1 score: \" + str(f1_score(y, y_pred,average='micro')))\n",
        "TP = cm[1][1]\n",
        "TN = cm[0][0]\n",
        "FP = cm[0][1]\n",
        "FN = cm[1][0]\n",
        "accKMM12=str(accuracy_score(y, y_pred))\n",
        "conf_sensitivityKMM12 = (TP / float(TP + FN))\n",
        "conf_specificityKMM12 = (TN / float(TN + FP))\n",
        "print(f'Sensitivity: {round(conf_sensitivityKMM12,2)}') \n",
        "print(f'Specificity: {round(conf_specificityKMM12,2)}') "
      ],
      "metadata": {
        "colab": {
          "base_uri": "https://localhost:8080/"
        },
        "id": "0HxKqPj__CUy",
        "outputId": "350c2cd1-9012-44d8-b9aa-c0fcf999d359"
      },
      "execution_count": null,
      "outputs": [
        {
          "output_type": "stream",
          "name": "stdout",
          "text": [
            "Accuracy score: 0.8\n",
            "\n",
            "Confusion matrix: \n",
            "[[5 0 0 0 0]\n",
            " [0 5 0 0 0]\n",
            " [0 0 5 0 0]\n",
            " [0 0 0 5 0]\n",
            " [0 5 0 0 0]]\n",
            "F1 score: 0.8000000000000002\n",
            "Sensitivity: 1.0\n",
            "Specificity: 1.0\n"
          ]
        }
      ]
    },
    {
      "cell_type": "code",
      "source": [
        "!pip install fuzzy-c-means\n",
        "from fcmeans import FCM"
      ],
      "metadata": {
        "colab": {
          "base_uri": "https://localhost:8080/"
        },
        "id": "VvpOB5pfBdib",
        "outputId": "38c07703-83da-44a3-92d0-b82839575f47"
      },
      "execution_count": null,
      "outputs": [
        {
          "output_type": "stream",
          "name": "stdout",
          "text": [
            "Requirement already satisfied: fuzzy-c-means in /usr/local/lib/python3.7/dist-packages (1.6.3)\n",
            "Requirement already satisfied: tabulate<0.9.0,>=0.8.9 in /usr/local/lib/python3.7/dist-packages (from fuzzy-c-means) (0.8.9)\n",
            "Requirement already satisfied: pydantic<2.0.0,>=1.8.2 in /usr/local/lib/python3.7/dist-packages (from fuzzy-c-means) (1.9.0)\n",
            "Requirement already satisfied: typer<0.4.0,>=0.3.2 in /usr/local/lib/python3.7/dist-packages (from fuzzy-c-means) (0.3.2)\n",
            "Requirement already satisfied: numpy<2.0.0,>=1.21.1 in /usr/local/lib/python3.7/dist-packages (from fuzzy-c-means) (1.21.6)\n",
            "Requirement already satisfied: typing-extensions>=3.7.4.3 in /usr/local/lib/python3.7/dist-packages (from pydantic<2.0.0,>=1.8.2->fuzzy-c-means) (4.2.0)\n",
            "Requirement already satisfied: click<7.2.0,>=7.1.1 in /usr/local/lib/python3.7/dist-packages (from typer<0.4.0,>=0.3.2->fuzzy-c-means) (7.1.2)\n"
          ]
        }
      ]
    },
    {
      "cell_type": "code",
      "source": [
        "#FCM FOR SENSOR 3\n",
        "x=data3.drop('Class',axis=1)\n",
        "y = data3['Class']\n",
        "\n",
        "sc=MinMaxScaler()\n",
        "xsc=sc.fit_transform(x)\n",
        "#MODEL CREATION\n",
        "fcm = FCM(n_clusters=5)\n",
        "fcm.fit(xsc)\n",
        "y_pred=fcm.predict(xsc)\n",
        "\n",
        "\n",
        "#CALCULATING METRICES\n",
        "print(\"Accuracy score: \" + str(accuracy_score(y, y_pred)))\n",
        "cm=confusion_matrix(y, y_pred)\n",
        "print(\"\\nConfusion matrix: \\n\" + str(confusion_matrix(y, y_pred)))\n",
        "print(\"F1 score: \" + str(f1_score(y, y_pred,average='micro')))\n",
        "TP3 = cm[1][1]\n",
        "TN3 = cm[0][0]\n",
        "FP3 = cm[0][1]\n",
        "FN3 = cm[1][0]\n",
        "accFC3=str(accuracy_score(y, y_pred))\n",
        "conf_sensitivityFC3 = (TP3 / float(TP3 + FN3))\n",
        "conf_specificityFC3 = (TN3 / float(TN3 + FP3))\n",
        "print(f'Sensitivity: {round(conf_sensitivityFC3,2)}') \n",
        "print(f'Specificity: {round(conf_specificityFC3,2)}') "
      ],
      "metadata": {
        "colab": {
          "base_uri": "https://localhost:8080/"
        },
        "id": "Uo-qZLOdkxZ2",
        "outputId": "29ac8e49-561c-4642-85d0-d7d102853acc"
      },
      "execution_count": null,
      "outputs": [
        {
          "output_type": "stream",
          "name": "stdout",
          "text": [
            "Accuracy score: 0.44\n",
            "\n",
            "Confusion matrix: \n",
            "[[2 0 3 0 0]\n",
            " [0 5 0 0 0]\n",
            " [0 0 0 5 0]\n",
            " [0 0 0 0 5]\n",
            " [0 1 0 0 4]]\n",
            "F1 score: 0.44\n",
            "Sensitivity: 1.0\n",
            "Specificity: 1.0\n"
          ]
        }
      ]
    },
    {
      "cell_type": "code",
      "source": [
        "#FCM FOR SENSOR 6\n",
        "x6=data6.drop('Class',axis=1)\n",
        "y6 = data6['Class']\n",
        "\n",
        "sc=MinMaxScaler()\n",
        "xsc6=sc.fit_transform(x)\n",
        "#MODEL CREATION\n",
        "fcm6 = FCM(n_clusters=5)\n",
        "fcm6.fit(xsc6)\n",
        "y_pred6=fcm6.predict(xsc6)\n",
        "\n",
        "\n",
        "#CALCULATING METRICES\n",
        "print(\"Accuracy score: \" + str(accuracy_score(y6, y_pred6)))\n",
        "cm=confusion_matrix(y6, y_pred6)\n",
        "print(\"\\nConfusion matrix: \\n\" + str(confusion_matrix(y6, y_pred6)))\n",
        "print(\"F1 score: \" + str(f1_score(y6, y_pred6,average='micro')))\n",
        "TP6 = cm[1][1]\n",
        "TN6 = cm[0][0]\n",
        "FP6 = cm[0][1]\n",
        "FN6 = cm[1][0]\n",
        "accFC6=str(accuracy_score(y6, y_pred6))\n",
        "conf_sensitivityFC6 = (TP6 / float(TP6 + FN6))\n",
        "conf_specificityFC6 = (TN6 / float(TN6 + FP6))\n",
        "print(f'Sensitivity: {round(conf_sensitivityFC6,2)}') \n",
        "print(f'Specificity: {round(conf_specificityFC6,2)}') "
      ],
      "metadata": {
        "colab": {
          "base_uri": "https://localhost:8080/"
        },
        "id": "8QIRZodilqug",
        "outputId": "b1611016-2969-4e2d-daf1-fe0a67ca2fe7"
      },
      "execution_count": null,
      "outputs": [
        {
          "output_type": "stream",
          "name": "stdout",
          "text": [
            "Accuracy score: 0.52\n",
            "\n",
            "Confusion matrix: \n",
            "[[3 0 0 2 0]\n",
            " [0 5 0 0 0]\n",
            " [0 0 5 0 0]\n",
            " [0 0 0 0 5]\n",
            " [0 5 0 0 0]]\n",
            "F1 score: 0.52\n",
            "Sensitivity: 1.0\n",
            "Specificity: 1.0\n"
          ]
        }
      ]
    },
    {
      "cell_type": "code",
      "source": [
        "#FCM FOR SENSOR 7\n",
        "x7=data7.drop('Class',axis=1)\n",
        "y7 = data7['Class']\n",
        "\n",
        "sc=MinMaxScaler()\n",
        "xsc7=sc.fit_transform(x)\n",
        "#MODEL CREATION\n",
        "fcm7 = FCM(n_clusters=5)\n",
        "fcm7.fit(xsc7)\n",
        "y_pred7=fcm7.predict(xsc7)\n",
        "\n",
        "#CALCULATING METRICES\n",
        "print(\"Accuracy score: \" + str(accuracy_score(y7, y_pred7)))\n",
        "cm=confusion_matrix(y7, y_pred7)\n",
        "print(\"\\nConfusion matrix: \\n\" + str(confusion_matrix(y7, y_pred7)))\n",
        "print(\"F1 score: \" + str(f1_score(y7, y_pred7,average='micro')))\n",
        "TP7 = cm[1][1]\n",
        "TN7 = cm[0][0]\n",
        "FP7 = cm[0][1]\n",
        "FN7 = cm[1][0]\n",
        "accFC7=str(accuracy_score(y7, y_pred7))\n",
        "conf_sensitivityFC7 = (TP7 / float(TP7 + FN7))\n",
        "conf_specificityFC7 = (TN7 / float(TN7 + FP7))\n",
        "print(f'Sensitivity: {round(conf_sensitivityFC7,2)}') \n",
        "print(f'Specificity: {round(conf_specificityFC7,2)}') \n"
      ],
      "metadata": {
        "colab": {
          "base_uri": "https://localhost:8080/"
        },
        "id": "1c6MTWFWnXN7",
        "outputId": "b2475283-8488-4cdb-d204-b9030945512a"
      },
      "execution_count": null,
      "outputs": [
        {
          "output_type": "stream",
          "name": "stdout",
          "text": [
            "Accuracy score: 0.6\n",
            "\n",
            "Confusion matrix: \n",
            "[[5 0 0 0 0]\n",
            " [0 5 0 0 0]\n",
            " [0 0 0 5 0]\n",
            " [0 0 5 0 0]\n",
            " [0 0 0 0 5]]\n",
            "F1 score: 0.6\n",
            "Sensitivity: 1.0\n",
            "Specificity: 1.0\n"
          ]
        }
      ]
    },
    {
      "cell_type": "code",
      "source": [
        "#FCM FOR SENSOR 10\n",
        "x10=data10.drop('Class',axis=1)\n",
        "y10 = data10['Class']\n",
        "\n",
        "sc=MinMaxScaler()\n",
        "xsc10=sc.fit_transform(x)\n",
        "#MODEL CREATION\n",
        "fcm10 = FCM(n_clusters=5)\n",
        "fcm10.fit(xsc)\n",
        "y_pred10=fcm.predict(xsc10)\n",
        "\n",
        "\n",
        "#CALCULATING METRICES\n",
        "print(\"Accuracy score: \" + str(accuracy_score(y10, y_pred10)))\n",
        "cm=confusion_matrix(y10, y_pred10)\n",
        "print(\"\\nConfusion matrix: \\n\" + str(confusion_matrix(y10, y_pred10)))\n",
        "print(\"F1 score: \" + str(f1_score(y10, y_pred10,average='micro')))\n",
        "TP10 = cm[1][1]\n",
        "TN10 = cm[0][0]\n",
        "FP10 = cm[0][1]\n",
        "FN10 = cm[1][0]\n",
        "accFC10=str(accuracy_score(y10, y_pred10))\n",
        "conf_sensitivityFC10 = (TP10 / float(TP10 + FN10))\n",
        "conf_specificityFC10 = (TN10 / float(TN10 + FP10))\n",
        "print(f'Sensitivity: {round(conf_sensitivityFC10,2)}') \n",
        "print(f'Specificity: {round(conf_specificityFC10,2)}') "
      ],
      "metadata": {
        "colab": {
          "base_uri": "https://localhost:8080/"
        },
        "id": "fYAtfhAln88R",
        "outputId": "4bbbbe60-2f00-4e6a-ef95-67f32a18ecb1"
      },
      "execution_count": null,
      "outputs": [
        {
          "output_type": "stream",
          "name": "stdout",
          "text": [
            "Accuracy score: 0.52\n",
            "\n",
            "Confusion matrix: \n",
            "[[3 0 2 0 0]\n",
            " [0 5 0 0 0]\n",
            " [0 0 0 0 5]\n",
            " [0 0 0 5 0]\n",
            " [0 5 0 0 0]]\n",
            "F1 score: 0.52\n",
            "Sensitivity: 1.0\n",
            "Specificity: 1.0\n"
          ]
        }
      ]
    },
    {
      "cell_type": "code",
      "source": [
        "#FCM FOR SENSOR 12\n",
        "x12=data12.drop('Class',axis=1)\n",
        "y12 = data12['Class']\n",
        "\n",
        "sc=MinMaxScaler()\n",
        "xsc12=sc.fit_transform(x)\n",
        "#MODEL CREATION\n",
        "fcm12 = FCM(n_clusters=5)\n",
        "fcm12.fit(xsc12)\n",
        "y_pred12=fcm12.predict(xsc12)\n",
        "\n",
        "\n",
        "#CALCULATING METRICES\n",
        "print(\"Accuracy score: \" + str(accuracy_score(y12, y_pred12)))\n",
        "cm=confusion_matrix(y12, y_pred12)\n",
        "print(\"\\nConfusion matrix: \\n\" + str(confusion_matrix(y12, y_pred12)))\n",
        "print(\"F1 score: \" + str(f1_score(y12, y_pred12,average='micro')))\n",
        "TP12 = cm[1][1]\n",
        "TN12 = cm[0][0]\n",
        "FP12 = cm[0][1]\n",
        "FN12 = cm[1][0]\n",
        "accFC12=str(accuracy_score(y12, y_pred12))\n",
        "conf_sensitivityFC12 = (TP12 / float(TP12 + FN12))\n",
        "conf_specificityFC12 = (TN12 / float(TN12 + FP12))\n",
        "print(f'Sensitivity: {round(conf_sensitivityFC12,2)}') \n",
        "print(f'Specificity: {round(conf_specificityFC12,2)}') "
      ],
      "metadata": {
        "colab": {
          "base_uri": "https://localhost:8080/"
        },
        "id": "3Z7lZW5qowTX",
        "outputId": "24302e7f-738f-45ee-9609-9766a21dc59b"
      },
      "execution_count": null,
      "outputs": [
        {
          "output_type": "stream",
          "name": "stdout",
          "text": [
            "Accuracy score: 0.68\n",
            "\n",
            "Confusion matrix: \n",
            "[[2 0 0 0 3]\n",
            " [0 5 0 0 0]\n",
            " [0 0 5 0 0]\n",
            " [0 0 0 5 0]\n",
            " [0 5 0 0 0]]\n",
            "F1 score: 0.68\n",
            "Sensitivity: 1.0\n",
            "Specificity: 1.0\n"
          ]
        }
      ]
    },
    {
      "cell_type": "code",
      "source": [
        "!pip install mrmr_selection"
      ],
      "metadata": {
        "colab": {
          "base_uri": "https://localhost:8080/"
        },
        "id": "dW2CltRXEg76",
        "outputId": "2158e3a8-b6bf-49d4-f289-53869d7ca859"
      },
      "execution_count": null,
      "outputs": [
        {
          "output_type": "stream",
          "name": "stdout",
          "text": [
            "Collecting mrmr_selection\n",
            "  Downloading mrmr_selection-0.2.5-py3-none-any.whl (24 kB)\n",
            "Requirement already satisfied: scipy in /usr/local/lib/python3.7/dist-packages (from mrmr_selection) (1.4.1)\n",
            "Requirement already satisfied: joblib in /usr/local/lib/python3.7/dist-packages (from mrmr_selection) (1.1.0)\n",
            "Requirement already satisfied: sklearn in /usr/local/lib/python3.7/dist-packages (from mrmr_selection) (0.0)\n",
            "Requirement already satisfied: numpy>=1.18.1 in /usr/local/lib/python3.7/dist-packages (from mrmr_selection) (1.21.6)\n",
            "Requirement already satisfied: pandas>=1.0.3 in /usr/local/lib/python3.7/dist-packages (from mrmr_selection) (1.3.5)\n",
            "Collecting category-encoders\n",
            "  Downloading category_encoders-2.4.1-py2.py3-none-any.whl (80 kB)\n",
            "\u001b[K     |████████████████████████████████| 80 kB 5.4 MB/s \n",
            "\u001b[?25hRequirement already satisfied: tqdm in /usr/local/lib/python3.7/dist-packages (from mrmr_selection) (4.64.0)\n",
            "Requirement already satisfied: jinja2 in /usr/local/lib/python3.7/dist-packages (from mrmr_selection) (2.11.3)\n",
            "Requirement already satisfied: pytz>=2017.3 in /usr/local/lib/python3.7/dist-packages (from pandas>=1.0.3->mrmr_selection) (2022.1)\n",
            "Requirement already satisfied: python-dateutil>=2.7.3 in /usr/local/lib/python3.7/dist-packages (from pandas>=1.0.3->mrmr_selection) (2.8.2)\n",
            "Requirement already satisfied: six>=1.5 in /usr/local/lib/python3.7/dist-packages (from python-dateutil>=2.7.3->pandas>=1.0.3->mrmr_selection) (1.15.0)\n",
            "Requirement already satisfied: statsmodels>=0.9.0 in /usr/local/lib/python3.7/dist-packages (from category-encoders->mrmr_selection) (0.10.2)\n",
            "Requirement already satisfied: patsy>=0.5.1 in /usr/local/lib/python3.7/dist-packages (from category-encoders->mrmr_selection) (0.5.2)\n",
            "Requirement already satisfied: scikit-learn>=0.20.0 in /usr/local/lib/python3.7/dist-packages (from category-encoders->mrmr_selection) (1.0.2)\n",
            "Requirement already satisfied: threadpoolctl>=2.0.0 in /usr/local/lib/python3.7/dist-packages (from scikit-learn>=0.20.0->category-encoders->mrmr_selection) (3.1.0)\n",
            "Requirement already satisfied: MarkupSafe>=0.23 in /usr/local/lib/python3.7/dist-packages (from jinja2->mrmr_selection) (2.0.1)\n",
            "Installing collected packages: category-encoders, mrmr-selection\n",
            "Successfully installed category-encoders-2.4.1 mrmr-selection-0.2.5\n"
          ]
        }
      ]
    },
    {
      "cell_type": "code",
      "source": [
        "from mrmr import mrmr_classif\n",
        "dataset.head()\n",
        "dataset.columns=['f1','f2','f3','f4','f5','f6','f7','f8','f9','f10',\n",
        "              'f11','f12','f13','f14','f15','f16','f17','f18','f19','f20',\n",
        "              'f21','f22','f23','f24','f25','f26','f27','f28','f29','f30',\n",
        "              'f31','f32','f33','f34','f35','f36','f37','f38','f39','f40',\n",
        "              'f41','f42','f43','f44','f45','f46','f47','f48','f49','f50','Class']\n",
        "X=dataset[dataset.columns[~dataset.columns.isin(['Class'])]]\n",
        "Y=dataset[\"Class\"]\n",
        "\n",
        "selected_features = mrmr_classif(X, Y, K = 10)\n",
        "X_upt=X[selected_features]\n",
        "sx=sc.fit_transform(X_upt)\n"
      ],
      "metadata": {
        "colab": {
          "base_uri": "https://localhost:8080/"
        },
        "id": "AoDsohQijW_q",
        "outputId": "6982cf38-5916-4394-e3d9-dfb813004253"
      },
      "execution_count": null,
      "outputs": [
        {
          "output_type": "stream",
          "name": "stderr",
          "text": [
            "100%|██████████| 10/10 [00:00<00:00, 21.34it/s]\n"
          ]
        }
      ]
    },
    {
      "cell_type": "code",
      "source": [
        "#MLP AFTER MRMR\n",
        "#TRAIN TEST SPLIT\n",
        "X_train, X_test, y_train, y_test = train_test_split(X_upt, Y, test_size=0.20, random_state=1)\n",
        "\n",
        "#MODEL CREATION\n",
        "model=MLPClassifier(solver='lbfgs', \n",
        "                    alpha=1e-5,\n",
        "                    hidden_layer_sizes=(150,100,50), \n",
        "                    random_state=1)\n",
        "model.fit(X_train,y_train)\n",
        "y_pred=model.predict(X_test)\n",
        "\n",
        "#CALCULATING METRICES\n",
        "print(\"Accuracy score: \" + str(accuracy_score(y_test, y_pred)))\n",
        "cm=confusion_matrix(y_test, y_pred)\n",
        "print(\"\\nConfusion matrix: \\n\" + str(confusion_matrix(y_test, y_pred)))\n",
        "print(\"F1 score: \" + str(f1_score(y_test, y_pred,average='micro')))\n",
        "TP = cm[1][1]\n",
        "TN = cm[0][0]\n",
        "FP = cm[0][1]\n",
        "FN = cm[1][0]\n",
        "accMLP=str(accuracy_score(y_test, y_pred))\n",
        "conf_sensitivityMLP = (TP / float(TP + FN))\n",
        "conf_specificityMLP = (TN / float(TN + FP))\n",
        "print(f'Sensitivity: {round(conf_sensitivityMLP,2)}') \n",
        "print(f'Specificity: {round(conf_specificityMLP,2)}') \n"
      ],
      "metadata": {
        "colab": {
          "base_uri": "https://localhost:8080/"
        },
        "id": "y1TdDqLtygBz",
        "outputId": "73985404-47b5-4b6f-bd3d-69fc37151a1b"
      },
      "execution_count": null,
      "outputs": [
        {
          "output_type": "stream",
          "name": "stdout",
          "text": [
            "Accuracy score: 1.0\n",
            "\n",
            "Confusion matrix: \n",
            "[[1 0 0 0]\n",
            " [0 2 0 0]\n",
            " [0 0 1 0]\n",
            " [0 0 0 1]]\n",
            "F1 score: 1.0\n",
            "Sensitivity: 1.0\n",
            "Specificity: 1.0\n"
          ]
        }
      ]
    },
    {
      "cell_type": "code",
      "source": [
        "#SVM AFTER MRMR\n",
        "#TRAIN TEST SPLIT\n",
        "X_train, X_test, y_train, y_test = train_test_split(X_upt, Y, test_size=0.20, random_state=1)\n",
        "\n",
        "#MODEL CREATION\n",
        "SVCClf = SVC(kernel = 'linear',gamma = 'scale', shrinking = False,)\n",
        "SVCClf.fit(X_train, y_train)\n",
        "y_pred=SVCClf.predict(X_test)\n",
        "\n",
        "\n",
        "#CALCULATING METRICES\n",
        "print(\"Accuracy score: \" + str(accuracy_score(y_test, y_pred)))\n",
        "cm=confusion_matrix(y_test, y_pred)\n",
        "print(\"\\nConfusion matrix: \\n\" + str(confusion_matrix(y_test, y_pred)))\n",
        "print(\"F1 score: \" + str(f1_score(y_test, y_pred,average='micro')))\n",
        "TP = cm[1][1]\n",
        "TN = cm[0][0]\n",
        "FP = cm[0][1]\n",
        "FN = cm[1][0]\n",
        "accSVM=str(accuracy_score(y_test, y_pred))\n",
        "conf_sensitivitySVM = (TP / float(TP + FN))\n",
        "conf_specificitySVM = (TN / float(TN + FP))\n",
        "print(f'Sensitivity: {round(conf_sensitivitySVM,2)}') \n",
        "print(f'Specificity: {round(conf_specificitySVM,2)}') "
      ],
      "metadata": {
        "colab": {
          "base_uri": "https://localhost:8080/"
        },
        "id": "YfL3nBiez0W7",
        "outputId": "094aa86a-c4f4-4799-9828-c5a20ba27a06"
      },
      "execution_count": null,
      "outputs": [
        {
          "output_type": "stream",
          "name": "stdout",
          "text": [
            "Accuracy score: 1.0\n",
            "\n",
            "Confusion matrix: \n",
            "[[1 0 0 0]\n",
            " [0 2 0 0]\n",
            " [0 0 1 0]\n",
            " [0 0 0 1]]\n",
            "F1 score: 1.0\n",
            "Sensitivity: 1.0\n",
            "Specificity: 1.0\n"
          ]
        }
      ]
    },
    {
      "cell_type": "code",
      "source": [
        "#KMM AFTER MRMR\n",
        "\n",
        "#MODEL CREATION\n",
        "kmm = KMeans(n_clusters=5,init='k-means++')\n",
        "kmm.fit(sx)\n",
        "y_pred=kmm.predict(sx)\n",
        "\n",
        "\n",
        "#CALCULATING METRICES\n",
        "print(\"Accuracy score: \" + str(accuracy_score(Y, y_pred)))\n",
        "cm=confusion_matrix(Y, y_pred)\n",
        "print(\"\\nConfusion matrix: \\n\" + str(confusion_matrix(Y, y_pred)))\n",
        "print(\"F1 score: \" + str(f1_score(Y, y_pred,average='micro')))\n",
        "TP = cm[1][1]\n",
        "TN = cm[0][0]\n",
        "FP = cm[0][1]\n",
        "FN = cm[1][0]\n",
        "accKMR=str(accuracy_score(Y, y_pred))\n",
        "conf_sensitivityKMR = (TP / float(TP + FN))\n",
        "conf_specificityKMR = (TN / float(TN + FP))\n",
        "print(f'Sensitivity: {round(conf_sensitivityKMR,2)}') \n",
        "print(f'Specificity: {round(conf_specificityKMR,2)}') "
      ],
      "metadata": {
        "colab": {
          "base_uri": "https://localhost:8080/"
        },
        "id": "VYY-XPXrfhKl",
        "outputId": "31df5263-182e-4ae2-82a0-419879e63df0"
      },
      "execution_count": null,
      "outputs": [
        {
          "output_type": "stream",
          "name": "stdout",
          "text": [
            "Accuracy score: 0.6\n",
            "\n",
            "Confusion matrix: \n",
            "[[5 0 0 0 0]\n",
            " [0 5 0 0 0]\n",
            " [0 0 0 5 0]\n",
            " [0 0 5 0 0]\n",
            " [0 0 0 0 5]]\n",
            "F1 score: 0.6\n",
            "Sensitivity: 1.0\n",
            "Specificity: 1.0\n"
          ]
        }
      ]
    },
    {
      "cell_type": "code",
      "source": [
        "#FCM AFTER MRMR\n",
        "\n",
        "#MODEL CREATION\n",
        "fcm = FCM(n_clusters=5)\n",
        "fcm.fit(sx)\n",
        "y_pred=fcm.predict(sx)\n",
        "\n",
        "\n",
        "#CALCULATING METRICES\n",
        "print(\"Accuracy score: \" + str(accuracy_score(Y, y_pred)))\n",
        "cm=confusion_matrix(Y, y_pred)\n",
        "print(\"\\nConfusion matrix: \\n\" + str(confusion_matrix(Y, y_pred)))\n",
        "print(\"F1 score: \" + str(f1_score(Y, y_pred,average='micro')))\n",
        "TP1 = cm[1][1]\n",
        "TN1 = cm[0][0]\n",
        "FP1 = cm[0][1]\n",
        "FN1 = cm[1][0]\n",
        "accFCR=str(accuracy_score(Y, y_pred))\n",
        "conf_sensitivityFCR = (TP1 / float(TP1 + FN1))\n",
        "conf_specificityFCR = (TN1 / float(TN1 + FP1))\n",
        "print(f'Sensitivity: {round(conf_sensitivityFCR,2)}') \n",
        "print(f'Specificity: {round(conf_specificityFCR,2)}') "
      ],
      "metadata": {
        "colab": {
          "base_uri": "https://localhost:8080/"
        },
        "id": "Gmj890XAhqFc",
        "outputId": "0d8ebbda-a7e1-4b1e-e281-ab759fe4a2da"
      },
      "execution_count": null,
      "outputs": [
        {
          "output_type": "stream",
          "name": "stdout",
          "text": [
            "Accuracy score: 1.0\n",
            "\n",
            "Confusion matrix: \n",
            "[[5 0 0 0 0]\n",
            " [0 5 0 0 0]\n",
            " [0 0 5 0 0]\n",
            " [0 0 0 5 0]\n",
            " [0 0 0 0 5]]\n",
            "F1 score: 1.0\n",
            "Sensitivity: 1.0\n",
            "Specificity: 1.0\n"
          ]
        }
      ]
    },
    {
      "cell_type": "code",
      "source": [
        "pip install hmmlearn\n"
      ],
      "metadata": {
        "colab": {
          "base_uri": "https://localhost:8080/"
        },
        "id": "3vzGv4Qftx_6",
        "outputId": "7478f993-4e3a-4362-82f7-fae35695faf1"
      },
      "execution_count": null,
      "outputs": [
        {
          "output_type": "stream",
          "name": "stdout",
          "text": [
            "Requirement already satisfied: hmmlearn in /usr/local/lib/python3.7/dist-packages (0.2.7)\n",
            "Requirement already satisfied: scikit-learn>=0.16 in /usr/local/lib/python3.7/dist-packages (from hmmlearn) (1.0.2)\n",
            "Requirement already satisfied: numpy>=1.10 in /usr/local/lib/python3.7/dist-packages (from hmmlearn) (1.21.6)\n",
            "Requirement already satisfied: scipy>=0.19 in /usr/local/lib/python3.7/dist-packages (from hmmlearn) (1.4.1)\n",
            "Requirement already satisfied: threadpoolctl>=2.0.0 in /usr/local/lib/python3.7/dist-packages (from scikit-learn>=0.16->hmmlearn) (3.1.0)\n",
            "Requirement already satisfied: joblib>=0.11 in /usr/local/lib/python3.7/dist-packages (from scikit-learn>=0.16->hmmlearn) (1.1.0)\n"
          ]
        }
      ]
    },
    {
      "cell_type": "code",
      "source": [
        "from hmmlearn import hmm"
      ],
      "metadata": {
        "id": "q8x2nK2PuR33"
      },
      "execution_count": null,
      "outputs": []
    },
    {
      "cell_type": "code",
      "execution_count": null,
      "metadata": {
        "id": "0b4d2f1a"
      },
      "outputs": [],
      "source": [
        "x1=X_upt.loc[0:4,:]\n",
        "x2=X_upt.loc[5:9,:]\n",
        "x3=X_upt.loc[10:14,:]\n",
        "x4=X_upt.loc[15:19,:]\n",
        "x5=X_upt.loc[20:24,:]"
      ]
    },
    {
      "cell_type": "code",
      "execution_count": null,
      "metadata": {
        "id": "27106579"
      },
      "outputs": [],
      "source": [
        "y1=Y.loc[0:4]\n",
        "y2=Y.loc[5:9]\n",
        "y3=Y.loc[10:14]\n",
        "y4=Y.loc[15:19]\n",
        "y5=Y.loc[20:24]"
      ]
    },
    {
      "cell_type": "code",
      "execution_count": null,
      "metadata": {
        "id": "2b78a612"
      },
      "outputs": [],
      "source": [
        "x_train1,x_test1,y_train1,y_test1=train_test_split(x1,y1,test_size=0.2,random_state=1)\n",
        "x_train2,x_test2,y_train2,y_test2=train_test_split(x2,y2,test_size=0.2,random_state=1)\n",
        "x_train3,x_test3,y_train3,y_test3=train_test_split(x3,y3,test_size=0.2,random_state=1)\n",
        "x_train4,x_test4,y_train4,y_test4=train_test_split(x4,y4,test_size=0.2,random_state=1)\n",
        "x_train5,x_test5,y_train5,y_test5=train_test_split(x5,y5,test_size=0.2,random_state=1)"
      ]
    },
    {
      "cell_type": "code",
      "execution_count": null,
      "metadata": {
        "id": "19027f0f"
      },
      "outputs": [],
      "source": [
        "sc=MinMaxScaler()\n",
        "x_train1=sc.fit_transform(x_train1)\n",
        "x_test1=sc.fit_transform(x_test1)\n",
        "x_train2=sc.fit_transform(x_train2)\n",
        "x_test2=sc.fit_transform(x_test2)\n",
        "x_train3=sc.fit_transform(x_train3)\n",
        "x_test3=sc.fit_transform(x_test3)\n",
        "x_train4=sc.fit_transform(x_train4)\n",
        "x_test4=sc.fit_transform(x_test4)\n",
        "x_train5=sc.fit_transform(x_train5)\n",
        "x_test5=sc.fit_transform(x_test5)"
      ]
    },
    {
      "cell_type": "code",
      "execution_count": null,
      "metadata": {
        "id": "c1876182"
      },
      "outputs": [],
      "source": [
        "h1=hmm.GaussianHMM()\n",
        "h1.fit(x_train1)\n",
        "pred1 = h1.predict(x_test1)"
      ]
    },
    {
      "cell_type": "code",
      "execution_count": null,
      "metadata": {
        "id": "0f560c89"
      },
      "outputs": [],
      "source": [
        "h2=hmm.GaussianHMM()\n",
        "h2.fit(x_train2)\n",
        "pred2 = h2.predict(x_test2)"
      ]
    },
    {
      "cell_type": "code",
      "execution_count": null,
      "metadata": {
        "id": "51ca9a39"
      },
      "outputs": [],
      "source": [
        "h3=hmm.GaussianHMM()\n",
        "h3.fit(x_train3)\n",
        "pred3 = h3.predict(x_test3)"
      ]
    },
    {
      "cell_type": "code",
      "execution_count": null,
      "metadata": {
        "id": "67982614"
      },
      "outputs": [],
      "source": [
        "h4=hmm.GaussianHMM()\n",
        "h4.fit(x_train4)\n",
        "pred4 = h4.predict(x_test4)"
      ]
    },
    {
      "cell_type": "code",
      "execution_count": null,
      "metadata": {
        "id": "f42a0467"
      },
      "outputs": [],
      "source": [
        "h5=hmm.GaussianHMM()\n",
        "h5.fit(x_train5)\n",
        "pred5 = h5.predict(x_test5)"
      ]
    },
    {
      "cell_type": "code",
      "execution_count": null,
      "metadata": {
        "colab": {
          "base_uri": "https://localhost:8080/"
        },
        "id": "c86e5f4c",
        "outputId": "2e2f1cdd-3170-41b8-9a8d-3d7dec6dbee2"
      },
      "outputs": [
        {
          "output_type": "stream",
          "name": "stdout",
          "text": [
            "The accuracy score for Class 0 1.0\n",
            "The accuracy score for Class 1 1.0\n",
            "The accuracy score for Class 2 1.0\n",
            "The accuracy score for Class 3 1.0\n",
            "The accuracy score for Class 4 1.0\n"
          ]
        }
      ],
      "source": [
        "# Accuracy Score\n",
        "\n",
        "accuracy1=accuracy_score(y_test1,pred1)\n",
        "accuracy2=accuracy_score(y_test1,pred2)\n",
        "accuracy3=accuracy_score(y_test1,pred3)\n",
        "accuracy4=accuracy_score(y_test1,pred4)\n",
        "accuracy5=accuracy_score(y_test1,pred5)\n",
        "print('The accuracy score for Class 0',accuracy1)\n",
        "print('The accuracy score for Class 1',accuracy2)\n",
        "print('The accuracy score for Class 2',accuracy3)\n",
        "print('The accuracy score for Class 3',accuracy4)\n",
        "print('The accuracy score for Class 4',accuracy5)"
      ]
    },
    {
      "cell_type": "code",
      "execution_count": null,
      "metadata": {
        "colab": {
          "base_uri": "https://localhost:8080/"
        },
        "id": "27936155",
        "outputId": "0635aab6-377a-4e70-df97-774c0f91c750"
      },
      "outputs": [
        {
          "output_type": "stream",
          "name": "stdout",
          "text": [
            "The Metrics for Class 0:\n",
            "F1 score: 1.0\n",
            "\n",
            "Confusion matrix: \n",
            "[[0 0]\n",
            " [0 1]]\n",
            "Sensitivity: 1.0\n"
          ]
        }
      ],
      "source": [
        "print('The Metrics for Class 0:')\n",
        "\n",
        "# F1 score\n",
        "print(\"F1 score: \" + str(f1_score(y_test1,pred1,average='micro'))) \n",
        "\n",
        "# Confusion Matrix Computation\n",
        "cm1=confusion_matrix(y_test1, pred1,labels=[1,0])\n",
        "print(\"\\nConfusion matrix: \\n\" + str(cm1))\n",
        "\n",
        "# Sensitivity And Specificity Calculation\n",
        "\n",
        "TP1 = cm1[1][1]\n",
        "TN1 = cm1[0][0]\n",
        "FP1 = cm1[0][1]\n",
        "FN1 = cm1[1][0]\n",
        "\n",
        "conf_sensitivity1 = (TP1 / float(TP1 + FN1))\n",
        "print(f'Sensitivity: {round(conf_sensitivity1,2)}')"
      ]
    },
    {
      "cell_type": "code",
      "execution_count": null,
      "metadata": {
        "colab": {
          "base_uri": "https://localhost:8080/"
        },
        "id": "33006931",
        "outputId": "2c5287e1-2433-4f78-ec99-fb0dd6fcc9ae"
      },
      "outputs": [
        {
          "output_type": "stream",
          "name": "stdout",
          "text": [
            "The Metrics for Class 1:\n",
            "F1 score: 1.0\n",
            "\n",
            "Confusion matrix: \n",
            "[[0 0]\n",
            " [0 1]]\n",
            "Sensitivity: 1.0\n"
          ]
        }
      ],
      "source": [
        "print('The Metrics for Class 1:')\n",
        "\n",
        "# F1 score\n",
        "print(\"F1 score: \" + str(f1_score(y_test1,pred2,average='micro'))) \n",
        "\n",
        "# Confusion Matrix Computation\n",
        "cm2=confusion_matrix(y_test1, pred2,labels=[1,0])\n",
        "print(\"\\nConfusion matrix: \\n\" + str(cm2))\n",
        "\n",
        "# Sensitivity And Specificity Calculation\n",
        "\n",
        "TP2 = cm2[1][1]\n",
        "TN2 = cm2[0][0]\n",
        "FP2 = cm2[0][1]\n",
        "FN2 = cm2[1][0]\n",
        "\n",
        "conf_sensitivity2 = (TP2 / float(TP2 + FN2))\n",
        "print(f'Sensitivity: {round(conf_sensitivity2,2)}') "
      ]
    },
    {
      "cell_type": "code",
      "execution_count": null,
      "metadata": {
        "colab": {
          "base_uri": "https://localhost:8080/"
        },
        "id": "795a7583",
        "outputId": "82e70ea4-3fa7-456a-e5f1-f112ffaa46e2"
      },
      "outputs": [
        {
          "output_type": "stream",
          "name": "stdout",
          "text": [
            "The Metrics for Class 2:\n",
            "F1 score: 1.0\n",
            "\n",
            "Confusion matrix: \n",
            "[[0 0]\n",
            " [0 1]]\n",
            "Sensitivity: 1.0\n"
          ]
        }
      ],
      "source": [
        "print('The Metrics for Class 2:')\n",
        "\n",
        "# F1 score\n",
        "print(\"F1 score: \" + str(f1_score(y_test1,pred3,average='micro'))) \n",
        "\n",
        "# Confusion Matrix Computation\n",
        "cm3=confusion_matrix(y_test1, pred3,labels=[1,0])\n",
        "print(\"\\nConfusion matrix: \\n\" + str(cm3))\n",
        "\n",
        "# Sensitivity And Specificity Calculation\n",
        "\n",
        "TP3 = cm3[1][1]\n",
        "TN3 = cm3[0][0]\n",
        "FP3 = cm3[0][1]\n",
        "FN3 = cm3[1][0]\n",
        "\n",
        "conf_sensitivity3 = (TP3 / float(TP3 + FN3))\n",
        "print(f'Sensitivity: {round(conf_sensitivity3,2)}') "
      ]
    },
    {
      "cell_type": "code",
      "execution_count": null,
      "metadata": {
        "colab": {
          "base_uri": "https://localhost:8080/"
        },
        "id": "4fd10e70",
        "outputId": "9fb57dd1-64c9-4cbc-e159-5ca63885b06e"
      },
      "outputs": [
        {
          "output_type": "stream",
          "name": "stdout",
          "text": [
            "The Metrics for Class 3:\n",
            "F1 score: 1.0\n",
            "\n",
            "Confusion matrix: \n",
            "[[0 0]\n",
            " [0 1]]\n",
            "Sensitivity: 1.0\n"
          ]
        }
      ],
      "source": [
        "print('The Metrics for Class 3:')\n",
        "\n",
        "# F1 score\n",
        "print(\"F1 score: \" + str(f1_score(y_test1,pred4,average='micro'))) \n",
        "\n",
        "# Confusion Matrix Computation\n",
        "cm4=confusion_matrix(y_test1, pred4,labels=[1,0])\n",
        "print(\"\\nConfusion matrix: \\n\" + str(cm4))\n",
        "\n",
        "# Sensitivity And Specificity Calculation\n",
        "\n",
        "TP4 = cm4[1][1]\n",
        "TN4 = cm4[0][0]\n",
        "FP4 = cm4[0][1]\n",
        "FN4 = cm4[1][0]\n",
        "\n",
        "conf_sensitivity4 = (TP2 / float(TP4 + FN4))\n",
        "print(f'Sensitivity: {round(conf_sensitivity4,2)}') "
      ]
    },
    {
      "cell_type": "code",
      "execution_count": null,
      "metadata": {
        "colab": {
          "base_uri": "https://localhost:8080/"
        },
        "id": "572e4054",
        "outputId": "e63eb90c-6a1a-4e27-d42d-77cc53242106"
      },
      "outputs": [
        {
          "output_type": "stream",
          "name": "stdout",
          "text": [
            "The Metrics for Class 4:\n",
            "F1 score: 1.0\n",
            "\n",
            "Confusion matrix: \n",
            "[[0 0]\n",
            " [0 1]]\n",
            "Sensitivity: 1.0\n"
          ]
        }
      ],
      "source": [
        "print('The Metrics for Class 4:')\n",
        "\n",
        "# F1 score\n",
        "print(\"F1 score: \" + str(f1_score(y_test1,pred5,average='micro'))) \n",
        "\n",
        "# Confusion Matrix Computation\n",
        "cm5=confusion_matrix(y_test1, pred5,labels=[1,0])\n",
        "print(\"\\nConfusion matrix: \\n\" + str(cm5))\n",
        "\n",
        "# Sensitivity And Specificity Calculation\n",
        "\n",
        "TP5 = cm5[1][1]\n",
        "TN5 = cm5[0][0]\n",
        "FP5 = cm5[0][1]\n",
        "FN5 = cm5[1][0]\n",
        "\n",
        "conf_sensitivity5 = (TP2 / float(TP2 + FN2))\n",
        "print(f'Sensitivity: {round(conf_sensitivity5,2)}') "
      ]
    }
  ]
}